{
  "cells": [
    {
      "cell_type": "markdown",
      "metadata": {
        "id": "view-in-github",
        "colab_type": "text"
      },
      "source": [
        "<a href=\"https://colab.research.google.com/github/intanprtwi/Intannn/blob/main/P9_IntanPratiwi_2C1240007.ipynb\" target=\"_parent\"><img src=\"https://colab.research.google.com/assets/colab-badge.svg\" alt=\"Open In Colab\"/></a>"
      ]
    },
    {
      "cell_type": "code",
      "source": [
        "Nama = input(\"memasukan nama anda: \")\n",
        "print(f\"hallo, {Nama}! Selamat Belajar Phyton\")"
      ],
      "metadata": {
        "id": "6h-mva7qbWGB",
        "outputId": "7114bea4-8e16-4b4a-d3cb-03e0a6dc6365",
        "colab": {
          "base_uri": "https://localhost:8080/"
        }
      },
      "execution_count": null,
      "outputs": [
        {
          "output_type": "stream",
          "name": "stdout",
          "text": [
            "memasukan nama anda: Intan  Pratiwi\n",
            "hallo, Intan  Pratiwi! Selamat Belajar Phyton\n"
          ]
        }
      ]
    },
    {
      "cell_type": "code",
      "source": [
        "Panjang = float(input(\"memasukan panjang: \"))\n",
        "Lebar = float(input(\"memasukan lebar: \"))\n",
        "luas = Panjang*Lebar\n",
        "print(f\"Luas  {luas}\")"
      ],
      "metadata": {
        "id": "BBzOS9cZcK6J",
        "outputId": "0c15a349-61b3-4c11-b683-8068f46a540f",
        "colab": {
          "base_uri": "https://localhost:8080/"
        }
      },
      "execution_count": null,
      "outputs": [
        {
          "output_type": "stream",
          "name": "stdout",
          "text": [
            "memasukan panjang: 10\n",
            "memasukan lebar: 8\n",
            "Luas  80.0\n"
          ]
        }
      ]
    },
    {
      "cell_type": "code",
      "source": [
        "Bilangan = int(input(\"masukan bilangan bulat: \"))\n",
        "if Bilangan % 2 == 0:\n",
        "  print(f\"{Bilangan}adalah bilangan genap\")\n",
        "else:\n",
        "  print(f\"{Bilangan} adalah bilangan ganjil\")\n"
      ],
      "metadata": {
        "id": "FxVlFNp0m2p_",
        "outputId": "1a6f811d-ff07-4e80-ed2e-f9374c3325d4",
        "colab": {
          "base_uri": "https://localhost:8080/"
        }
      },
      "execution_count": null,
      "outputs": [
        {
          "output_type": "stream",
          "name": "stdout",
          "text": [
            "masukan bilangan bulat: 8\n",
            "8adalah bilangan genap\n"
          ]
        }
      ]
    },
    {
      "cell_type": "code",
      "source": [
        "i=1\n",
        "for i in range(1,21):\n",
        "  print(i, end=\" \")"
      ],
      "metadata": {
        "id": "Klfzar4OnHgd",
        "outputId": "7edda82c-15f2-4b7f-9145-fb244a149722",
        "colab": {
          "base_uri": "https://localhost:8080/"
        }
      },
      "execution_count": null,
      "outputs": [
        {
          "output_type": "stream",
          "name": "stdout",
          "text": [
            "1 2 3 4 5 6 7 8 9 10 11 12 13 14 15 16 17 18 19 20 "
          ]
        }
      ]
    },
    {
      "cell_type": "code",
      "source": [
        "a = int(input(\"Masukkan bilangan pertama (a): \"))\n",
        "b = int(input(\"Masukkan bilangan kedua (b): \"))\n",
        "\n",
        "if a > b:\n",
        "    a, b = b, a\n",
        "\n",
        "print(\"Bilangan genap antara\", a, \"dan\", b, \":\")\n",
        "for i in range(a, b + 1):\n",
        "    if i % 2 == 0:\n",
        "        print(i, end=\" \")"
      ],
      "metadata": {
        "id": "maZTzsiJnN39",
        "outputId": "51a67059-707a-41a1-9b1f-97f316a448ab",
        "colab": {
          "base_uri": "https://localhost:8080/"
        }
      },
      "execution_count": null,
      "outputs": [
        {
          "output_type": "stream",
          "name": "stdout",
          "text": [
            "Masukkan bilangan pertama (a): 12\n",
            "Masukkan bilangan kedua (b): 45\n",
            "Bilangan genap antara 12 dan 45 :\n",
            "12 14 16 18 20 22 24 26 28 30 32 34 36 38 40 42 44 "
          ]
        }
      ]
    },
    {
      "cell_type": "code",
      "source": [
        "A = [5, 2, 8, 1]\n",
        "array_terbalik = [0] * len (A)\n",
        "for i in range(len(A)):\n",
        "    array_terbalik[i] = A [len(A) -i -1]\n",
        "print(array_terbalik)"
      ],
      "metadata": {
        "id": "kMI9fvJfqxJl",
        "outputId": "58fb5148-448e-4a70-df4b-d76f162d911f",
        "colab": {
          "base_uri": "https://localhost:8080/"
        }
      },
      "execution_count": null,
      "outputs": [
        {
          "output_type": "stream",
          "name": "stdout",
          "text": [
            "[1, 8, 2, 5]\n"
          ]
        }
      ]
    },
    {
      "cell_type": "code",
      "source": [
        "bilangan = int(input(\"masukan bilangan bulat: \"))\n",
        "if bilangan < 2:\n",
        "    print(f\"{bilangan} bukan bilangan prima.\")\n",
        "else:\n",
        "    for i in range(2,int(bilangan ** 0.5)+1):\n",
        "        if bilangan % i == 0:\n",
        "            print(f\"{bilangan} bukan bilangan prima.\")\n",
        "            break\n",
        "    else:\n",
        "        print(f\"{bilangan} adalah bilangan prima.\")"
      ],
      "metadata": {
        "id": "wzHY9OEwq7sZ",
        "outputId": "910c89f4-59a2-48cc-948d-3a4bae4231cc",
        "colab": {
          "base_uri": "https://localhost:8080/"
        }
      },
      "execution_count": null,
      "outputs": [
        {
          "output_type": "stream",
          "name": "stdout",
          "text": [
            "masukan bilangan bulat: 5\n",
            "5 adalah bilangan prima.\n"
          ]
        }
      ]
    }
  ],
  "metadata": {
    "colab": {
      "toc_visible": true,
      "provenance": [],
      "include_colab_link": true
    },
    "kernelspec": {
      "display_name": "Python 3",
      "name": "python3"
    }
  },
  "nbformat": 4,
  "nbformat_minor": 0
}