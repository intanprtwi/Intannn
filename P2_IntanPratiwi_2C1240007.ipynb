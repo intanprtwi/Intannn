{
  "cells": [
    {
      "cell_type": "markdown",
      "metadata": {
        "id": "view-in-github",
        "colab_type": "text"
      },
      "source": [
        "<a href=\"https://colab.research.google.com/github/intanprtwi/Intannn/blob/main/P2_IntanPratiwi_2C1240007.ipynb\" target=\"_parent\"><img src=\"https://colab.research.google.com/assets/colab-badge.svg\" alt=\"Open In Colab\"/></a>"
      ]
    },
    {
      "cell_type": "code",
      "source": [
        "# Meminta nama user\n",
        "nama = input(\"Masukkan nama Anda: \")\n",
        "\n",
        "# Meminta jenis kelamin\n",
        "jenis_kelamin = input(\"Masukkan jenis kelamin Anda pria/wanita: \")\n",
        "\n",
        "# Menentukan sapaan berdasarkan jenis kelamin\n",
        "if jenis_kelamin == \"pria\":\n",
        "    print(f\"Halo bro {nama}!\")\n",
        "elif jenis_kelamin == \"wanita\":\n",
        "    print(f\"Halo sis {nama}!\")\n",
        "else:\n",
        "    print(\"Jenis kelamin tidak dikenali.\")\n"
      ],
      "metadata": {
        "id": "80CqMwVdsS-d",
        "outputId": "00f7dd8a-34c7-4ebe-9665-441e43202c54",
        "colab": {
          "base_uri": "https://localhost:8080/"
        }
      },
      "execution_count": null,
      "outputs": [
        {
          "output_type": "stream",
          "name": "stdout",
          "text": [
            "Masukkan nama Anda: intan\n",
            "Masukkan jenis kelamin Anda pria/wanita: wanita\n",
            "Halo sis intan!\n"
          ]
        }
      ]
    },
    {
      "cell_type": "code",
      "source": [],
      "metadata": {
        "id": "O20JZUisusCW"
      },
      "execution_count": null,
      "outputs": []
    },
    {
      "cell_type": "code",
      "source": [
        "#soal1\n",
        "bilangan=int(input(\"masukan sebuah bilangan :\"))\n",
        "if bilangan % 3==0:\n",
        "   print(\"bilangan habis dibagi tiga\")\n",
        "else:\n",
        "   print(\"bilangan tidak habis dibagi tiga\")"
      ],
      "metadata": {
        "id": "OMXeVburvkNN",
        "outputId": "7dcd86b2-fb7b-48ce-e03d-50b9c59764e5",
        "colab": {
          "base_uri": "https://localhost:8080/"
        }
      },
      "execution_count": null,
      "outputs": [
        {
          "output_type": "stream",
          "name": "stdout",
          "text": [
            "masukan sebuah bilangan :9\n",
            "bilangan habis dibagi tiga\n"
          ]
        }
      ]
    },
    {
      "cell_type": "code",
      "source": [
        "# contoh INFINITE LOOP\n",
        "# !!!hentikan program secara manual!!!\n",
        "# nilai b = 1 dan 1 > 0\n",
        "# karena nilai b tidak pernah berubah di dalam loop\n",
        "# maka kondisi akan selalu bernilai True\n",
        "b = 1 # b akan selalu bernilai 1\n",
        "while b > 0:\n",
        "print(\"INFINITE LOOP\")\n"
      ],
      "metadata": {
        "id": "eJMgSx24yrn2",
        "outputId": "209afe15-168a-4ae9-c43a-b98de5e02ebb",
        "colab": {
          "base_uri": "https://localhost:8080/",
          "height": 106
        }
      },
      "execution_count": null,
      "outputs": [
        {
          "output_type": "error",
          "ename": "IndentationError",
          "evalue": "expected an indented block after 'while' statement on line 7 (<ipython-input-39-de1edf2b24cb>, line 8)",
          "traceback": [
            "\u001b[0;36m  File \u001b[0;32m\"<ipython-input-39-de1edf2b24cb>\"\u001b[0;36m, line \u001b[0;32m8\u001b[0m\n\u001b[0;31m    print(\"INFINITE LOOP\")\u001b[0m\n\u001b[0m    ^\u001b[0m\n\u001b[0;31mIndentationError\u001b[0m\u001b[0;31m:\u001b[0m expected an indented block after 'while' statement on line 7\n"
          ]
        }
      ]
    },
    {
      "cell_type": "code",
      "source": [
        "#meminta jumlah jenis barang yang dibeli\n",
        "jumlah_barang=int(input(\"masukan jumlah jenis barang yang dibeli :\"))\n",
        "\n",
        "#meminta menghitung seluruh total belanja\n",
        "total_belanja =0\n",
        "\n",
        "#looping untuk setiap barang\n",
        "for i in range (1, jumlah_barang + 1):\n",
        "  print(f\"\\nBarang ke-{i}\")\n",
        "  harga = float(input(\"masukan harga satuan barang: \"))\n",
        "  jumlah = int(input(\"masukan jumlah unit barang: \"))\n",
        "  total_harga =harga*jumlah\n",
        "  total_belanja +=total_harga\n",
        "print(f\"\\ntotal seluruh belanja anda adalah : {total_belanja}\")\n"
      ],
      "metadata": {
        "id": "sffhZM_by4Zv",
        "outputId": "e3bcb55f-fa59-4e4d-91f8-6619bce0f3b0",
        "colab": {
          "base_uri": "https://localhost:8080/"
        }
      },
      "execution_count": null,
      "outputs": [
        {
          "output_type": "stream",
          "name": "stdout",
          "text": [
            "masukan jumlah jenis barang yang dibeli :2\n",
            "\n",
            "Barang ke-1\n",
            "masukan harga satuan barang: 4000\n",
            "masukan jumlah unit barang: 2\n",
            "\n",
            "Barang ke-2\n",
            "masukan harga satuan barang: 2000\n",
            "masukan jumlah unit barang: 2\n",
            "\n",
            "total seluruh belanja anda adalah : 12000.0\n"
          ]
        }
      ]
    },
    {
      "cell_type": "code",
      "source": [
        "a = 3\n",
        "# blok while akan dieksekusi\n",
        "# selama a > 0\n",
        "while a > 0:\n",
        "print(\"a =\", a, \"> 0\")\n",
        "a = a - 1\n",
        "print(\" a sekarang :\", a)"
      ],
      "metadata": {
        "id": "dPccFxlB-PLI",
        "outputId": "1e4997f8-8dfb-4a1a-dd58-769e64b74d23",
        "colab": {
          "base_uri": "https://localhost:8080/",
          "height": 106
        }
      },
      "execution_count": null,
      "outputs": [
        {
          "output_type": "error",
          "ename": "IndentationError",
          "evalue": "expected an indented block after 'while' statement on line 4 (<ipython-input-35-cfc3ea336713>, line 5)",
          "traceback": [
            "\u001b[0;36m  File \u001b[0;32m\"<ipython-input-35-cfc3ea336713>\"\u001b[0;36m, line \u001b[0;32m5\u001b[0m\n\u001b[0;31m    print(\"a =\", a, \"> 0\")\u001b[0m\n\u001b[0m    ^\u001b[0m\n\u001b[0;31mIndentationError\u001b[0m\u001b[0;31m:\u001b[0m expected an indented block after 'while' statement on line 4\n"
          ]
        }
      ]
    },
    {
      "cell_type": "code",
      "source": [
        "# contoh INFINITE LOOP\n",
        "# !!!hentikan program secara manual!!!\n",
        "# nilai b = 1 dan 1 > 0\n",
        "# karena nilai b tidak pernah berubah di dalam loop\n",
        "# maka kondisi akan selalu bernilai True\n",
        "b = 1 # b akan selalu bernilai 1\n",
        "while b > 0:\n",
        "print(\"infinite loop\")\n"
      ],
      "metadata": {
        "id": "NaLB5xwb-Wy4",
        "outputId": "de89b3a7-548f-4edc-eb98-397afae63ba9",
        "colab": {
          "base_uri": "https://localhost:8080/",
          "height": 106
        }
      },
      "execution_count": null,
      "outputs": [
        {
          "output_type": "error",
          "ename": "IndentationError",
          "evalue": "expected an indented block after 'while' statement on line 7 (<ipython-input-36-603ea8e5b6be>, line 8)",
          "traceback": [
            "\u001b[0;36m  File \u001b[0;32m\"<ipython-input-36-603ea8e5b6be>\"\u001b[0;36m, line \u001b[0;32m8\u001b[0m\n\u001b[0;31m    print(\"infinite loop\")\u001b[0m\n\u001b[0m    ^\u001b[0m\n\u001b[0;31mIndentationError\u001b[0m\u001b[0;31m:\u001b[0m expected an indented block after 'while' statement on line 7\n"
          ]
        }
      ]
    },
    {
      "cell_type": "code",
      "source": [
        "jawab = 'ya'\n",
        "hitung = 0\n",
        "while(jawab == 'ya'):\n",
        "hitung += 1\n",
        "jawab = input(\"Ulang lagi tidak? \")\n",
        "print(\"Total perulagan: \",hitung)"
      ],
      "metadata": {
        "id": "HhYx2_y9-utx",
        "outputId": "54b86e17-a97d-45ff-d344-292b5c978735",
        "colab": {
          "base_uri": "https://localhost:8080/",
          "height": 106
        }
      },
      "execution_count": null,
      "outputs": [
        {
          "output_type": "error",
          "ename": "IndentationError",
          "evalue": "expected an indented block after 'while' statement on line 3 (<ipython-input-40-c15d6358792d>, line 4)",
          "traceback": [
            "\u001b[0;36m  File \u001b[0;32m\"<ipython-input-40-c15d6358792d>\"\u001b[0;36m, line \u001b[0;32m4\u001b[0m\n\u001b[0;31m    hitung += 1\u001b[0m\n\u001b[0m    ^\u001b[0m\n\u001b[0;31mIndentationError\u001b[0m\u001b[0;31m:\u001b[0m expected an indented block after 'while' statement on line 3\n"
          ]
        }
      ]
    }
  ],
  "metadata": {
    "colab": {
      "toc_visible": true,
      "provenance": [],
      "include_colab_link": true
    },
    "kernelspec": {
      "display_name": "Python 3",
      "name": "python3"
    }
  },
  "nbformat": 4,
  "nbformat_minor": 0
}