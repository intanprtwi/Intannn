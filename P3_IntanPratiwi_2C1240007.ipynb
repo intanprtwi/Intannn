{
  "nbformat": 4,
  "nbformat_minor": 0,
  "metadata": {
    "colab": {
      "provenance": [],
      "authorship_tag": "ABX9TyPyes7+lRK9xBqeQXuzPC4P",
      "include_colab_link": true
    },
    "kernelspec": {
      "name": "python3",
      "display_name": "Python 3"
    },
    "language_info": {
      "name": "python"
    }
  },
  "cells": [
    {
      "cell_type": "markdown",
      "metadata": {
        "id": "view-in-github",
        "colab_type": "text"
      },
      "source": [
        "<a href=\"https://colab.research.google.com/github/intanprtwi/Intannn/blob/main/P3_IntanPratiwi_2C1240007.ipynb\" target=\"_parent\"><img src=\"https://colab.research.google.com/assets/colab-badge.svg\" alt=\"Open In Colab\"/></a>"
      ]
    },
    {
      "cell_type": "code",
      "execution_count": 1,
      "metadata": {
        "colab": {
          "base_uri": "https://localhost:8080/"
        },
        "id": "wr2MuM5RJDUB",
        "outputId": "d3bc33fe-83e0-4277-b748-7743f5214a05"
      },
      "outputs": [
        {
          "output_type": "stream",
          "name": "stdout",
          "text": [
            "2\n"
          ]
        }
      ],
      "source": [
        "NumbInt = [9, 8, 7, 6, 5, 4, 3, 2, 1, 0]\n",
        "print(NumbInt [7])"
      ]
    },
    {
      "cell_type": "code",
      "source": [
        "NumbInt = [0 for i in range(10)]\n",
        "print(NumbInt)"
      ],
      "metadata": {
        "colab": {
          "base_uri": "https://localhost:8080/"
        },
        "id": "ca4ESYfUJaIC",
        "outputId": "3d4eb6d7-7786-4ed2-d001-572e4535236f"
      },
      "execution_count": 2,
      "outputs": [
        {
          "output_type": "stream",
          "name": "stdout",
          "text": [
            "[0, 0, 0, 0, 0, 0, 0, 0, 0, 0]\n"
          ]
        }
      ]
    },
    {
      "cell_type": "code",
      "source": [
        "StarChar = ['*' for i in range(10)]\n",
        "print(StarChar)"
      ],
      "metadata": {
        "colab": {
          "base_uri": "https://localhost:8080/"
        },
        "id": "0faQ5bp1Jekh",
        "outputId": "e62ddd38-6959-4a91-8fa5-2e988de4b96b"
      },
      "execution_count": 3,
      "outputs": [
        {
          "output_type": "stream",
          "name": "stdout",
          "text": [
            "['*', '*', '*', '*', '*', '*', '*', '*', '*', '*']\n"
          ]
        }
      ]
    },
    {
      "cell_type": "code",
      "source": [
        "NumbInt = [1, 2, 4, -1, 100, 2, 0, -1, 3, 9]\n",
        "print(NumbInt[5]) # akan tercetak: 2\n",
        "x = NumbInt[1] + NumbInt[6] # x = 2 + 0 = 2\n",
        "NumbInt[9] = 9 # Elemen array indeks 9 menjadi 9\n",
        "NumbInt[4]  # Berada di luar range, tidak terdefinisi!!"
      ],
      "metadata": {
        "colab": {
          "base_uri": "https://localhost:8080/"
        },
        "id": "Eev5jZATJsN5",
        "outputId": "7eac19cb-f1ec-41c5-e746-508d30935cce"
      },
      "execution_count": 4,
      "outputs": [
        {
          "output_type": "stream",
          "name": "stdout",
          "text": [
            "2\n"
          ]
        },
        {
          "output_type": "execute_result",
          "data": {
            "text/plain": [
              "100"
            ]
          },
          "metadata": {},
          "execution_count": 4
        }
      ]
    },
    {
      "cell_type": "code",
      "source": [
        "# Program IsiArray\n",
        "# Mengisi array dengan nilai dari pengguna\n",
        "# KAMUS\n",
        "# TabInt : array [0..9] of int\n",
        "# i: int\n",
        "# ALGORITMA\n",
        "# Deklarasi array NumbInt dan mengisinya dengan nilai default 0\n",
        "NumbInt = [0 for i in range(10)]\n",
        "# Mengisi array dari pembacaan nilai dari keyboard\n",
        "for i in range(0,10): NumbInt[i] = int(input(2))"
      ],
      "metadata": {
        "colab": {
          "base_uri": "https://localhost:8080/"
        },
        "id": "gfn0TcAvJwFQ",
        "outputId": "44e758f6-cc67-44fb-a15c-859ea1f99ba1"
      },
      "execution_count": 6,
      "outputs": [
        {
          "name": "stdout",
          "output_type": "stream",
          "text": [
            "250\n",
            "251\n",
            "252\n",
            "253\n",
            "254\n",
            "255\n",
            "256\n",
            "257\n",
            "258\n",
            "259\n"
          ]
        }
      ]
    },
    {
      "cell_type": "code",
      "source": [
        "# Program IsiArray\n",
        "# Mengisi array dengan nilai dari pengguna\n",
        "# KAMUS\n",
        "# TabInt : array [0..9] of int\n",
        "# I : int\n",
        "# ALGORITMA\n",
        "# Deklarasi array NumbInt dan mengisinya dengan nilai default 0\n",
        "NumbInt = [0 for i in range(0,10)]\n",
        "# Mengisi array dari pembacaan nilai dari keyboard\n",
        "for i in range(0,10):\n",
        " NumbInt[i] = int(input(i))\n",
        "# Mencetak isi array\n",
        "for i in range(0,10):\n",
        " print(NumbInt[i])"
      ],
      "metadata": {
        "colab": {
          "base_uri": "https://localhost:8080/"
        },
        "id": "pvRz3N6hcF_z",
        "outputId": "cfb74d11-c28c-4555-e025-3deb36b53fd5"
      },
      "execution_count": 4,
      "outputs": [
        {
          "output_type": "stream",
          "name": "stdout",
          "text": [
            "01\n",
            "12\n",
            "23\n",
            "34\n",
            "45\n",
            "56\n",
            "67\n",
            "78\n",
            "89\n",
            "90\n",
            "1\n",
            "2\n",
            "3\n",
            "4\n",
            "5\n",
            "6\n",
            "7\n",
            "8\n",
            "9\n",
            "0\n"
          ]
        }
      ]
    },
    {
      "cell_type": "code",
      "source": [
        "# Program AverageArray\n",
        "# Menghitung nilai rata-rata elemen array\n",
        "# KAMUS\n",
        "# TabInt : array [0..9] of int\n",
        "# i : int\n",
        "# sum : int\n",
        "# ALGORITMA\n",
        "# Deklarasi array TabInt dan mengisinya dengan nilai default 0\n",
        "NumbInt = [0 for i in range(10)]\n",
        "# Mengisi array dari pembacaan nilai dari keyboard\n",
        "for i in range(0,10):\n",
        " NumbInt[i] = int(input())\n",
        "# Menjumlahkan elemen array\n",
        "sum = 0\n",
        "for i in range(0,10):\n",
        " sum = sum + NumbInt[i]\n",
        "# Menghitung nilai rata-rata dan menampilkannya\n",
        "rata = sum/10\n",
        "print (\"Nilai rata-rata = \" + str(rata))"
      ],
      "metadata": {
        "colab": {
          "base_uri": "https://localhost:8080/"
        },
        "id": "oZpDE5XfcNTa",
        "outputId": "025656ed-be4d-4de2-b683-4dc5cfddeecf"
      },
      "execution_count": 6,
      "outputs": [
        {
          "output_type": "stream",
          "name": "stdout",
          "text": [
            "24\n",
            "35\n",
            "78\n",
            "90\n",
            "56\n",
            "24\n",
            "67\n",
            "22\n",
            "11\n",
            "33\n",
            "Nilai rata-rata = 44.0\n"
          ]
        }
      ]
    },
    {
      "cell_type": "code",
      "source": [
        "# Program: Perkalian Array dan Mencari Nilai Ekstrem\n",
        "# 1. Inisialisasi array S\n",
        "S = [4, 1, -1, 10, 0, 12]\n",
        "# 2. Input nilai D dari pengguna\n",
        "D = int(input(\"Masukkan nilai D (pengali): \"))\n",
        "# 3. Kalikan setiap elemen S dengan D\n",
        "S = [elemen * D for elemen in S]\n",
        "# 4. Tampilkan hasil array setelah dikalikan\n",
        "print(\"Array S setelah dikalikan dengan D:\")\n",
        "print(S)\n",
        "# 5. Cari nilai maksimum dan minimum\n",
        "maks = max(S)\n",
        "minim = min(S)\n",
        "# 6. Tampilkan nilai maksimum dan minimum\n",
        "print(\"Nilai terbesar dalam array:\", maks)\n",
        "print(\"Nilai terkecil dalam array:\", minim)"
      ],
      "metadata": {
        "colab": {
          "base_uri": "https://localhost:8080/"
        },
        "id": "p0nIH_SYcazd",
        "outputId": "a7e81e22-e828-41c6-90dc-8c41c161dbbb"
      },
      "execution_count": 7,
      "outputs": [
        {
          "output_type": "stream",
          "name": "stdout",
          "text": [
            "Masukkan nilai D (pengali): 7\n",
            "Array S setelah dikalikan dengan D:\n",
            "[28, 7, -7, 70, 0, 84]\n",
            "Nilai terbesar dalam array: 84\n",
            "Nilai terkecil dalam array: -7\n"
          ]
        }
      ]
    },
    {
      "cell_type": "code",
      "source": [
        "MatSatuan = [[0, 1, 0, 1, 1, 1, 0],\n",
        "            [1, 1, 1, 1, 0, 1, 1],\n",
        "           [0, 0, 0, 1, 1, 0, 1]]\n",
        "print(MatSatuan [1] [5])"
      ],
      "metadata": {
        "colab": {
          "base_uri": "https://localhost:8080/"
        },
        "id": "kCPl4xvCchey",
        "outputId": "554f693e-ce8c-4c65-aa35-5aa6ea2e3308"
      },
      "execution_count": 8,
      "outputs": [
        {
          "output_type": "stream",
          "name": "stdout",
          "text": [
            "1\n"
          ]
        }
      ]
    },
    {
      "cell_type": "code",
      "source": [
        "MatValue = [[0 for j in range (4)] for i in range (3)]\n",
        "print(MatValue)"
      ],
      "metadata": {
        "colab": {
          "base_uri": "https://localhost:8080/"
        },
        "id": "4-cRhI_5copx",
        "outputId": "b3158c69-82fb-4da0-d6b8-bfff7a7b777c"
      },
      "execution_count": 9,
      "outputs": [
        {
          "output_type": "stream",
          "name": "stdout",
          "text": [
            "[[0, 0, 0, 0], [0, 0, 0, 0], [0, 0, 0, 0]]\n"
          ]
        }
      ]
    },
    {
      "cell_type": "code",
      "source": [
        "# Program IsiMatriks;\n",
        "# Isi matriks dan menulis ke layar\n",
        "# KAMUS\n",
        "# M : matriks of integer\n",
        "# NBrs, NKol : int (ukuran brs & kol)\n",
        "# i, j : int (indeks)\n",
        "# ALGORITMA\n",
        "# deklarasi matriks\n",
        "NBrs = 5\n",
        "NKol = 5\n",
        "M = [[0 for j in range(NKol)] for i in range(NBrs)]\n",
        "# Mengisi matriks ukuran NBrsxNKol\n",
        "for i in range (NBrs):\n",
        " for j in range (NKol):\n",
        "   M[i][j] = i * j\n",
        "# Menuliskan isi matriks ke layar\n",
        "for i in range (NBrs):\n",
        " for j in range (NKol):\n",
        "    print(str(M[i][j])+\" \", end='')\n",
        "print() # print hanya enter"
      ],
      "metadata": {
        "colab": {
          "base_uri": "https://localhost:8080/"
        },
        "id": "NH8wYcNmcq5Y",
        "outputId": "d0ad9f97-8559-46b8-c352-a85a71e9d4ee"
      },
      "execution_count": 10,
      "outputs": [
        {
          "output_type": "stream",
          "name": "stdout",
          "text": [
            "0 0 0 0 0 0 1 2 3 4 0 2 4 6 8 0 3 6 9 12 0 4 8 12 16 \n"
          ]
        }
      ]
    },
    {
      "cell_type": "code",
      "source": [
        "# Program BacaMatriks;\n",
        "# Baca isi matriks dari pengguna dan menulis ke layar\n",
        "# KAMUS\n",
        "# M : matriks of integer\n",
        "# NBrs, NKol : int (ukuran brs & kol)\n",
        "# i, j : int (indeks)\n",
        "# ALGORITMA\n",
        "# deklarasi matriks\n",
        "NBrs = 5; NKol = 5;\n",
        "M = [[0 for j in range(NKol)] for i in range(NBrs)]\n",
        "# Mengisi matriks ukuran NBrsxNKol\n",
        "for i in range (NBrs):\n",
        " for j in range (NKol):\n",
        "  M[i][j] = int(input(\"Elemen ke-[\"+str(i)+\",\"+str(j)+\"] = \"))\n",
        "# Menuliskan isi matriks ke layar\n",
        "for i in range (NBrs):\n",
        " for j in range (NKol):\n",
        "     print(str(M[i][j])+\" \", end='') # print tanpa enter\n",
        "print() # print hanya enter"
      ],
      "metadata": {
        "colab": {
          "base_uri": "https://localhost:8080/"
        },
        "id": "kRlSGp90cu_7",
        "outputId": "0af4dedd-b32b-4882-9bbf-ffa4067a1450"
      },
      "execution_count": 11,
      "outputs": [
        {
          "output_type": "stream",
          "name": "stdout",
          "text": [
            "Elemen ke-[0,0] = 23\n",
            "Elemen ke-[0,1] = 12\n",
            "Elemen ke-[0,2] = 45\n",
            "Elemen ke-[0,3] = 29\n",
            "Elemen ke-[0,4] = 90\n",
            "Elemen ke-[1,0] = 22\n",
            "Elemen ke-[1,1] = 67\n",
            "Elemen ke-[1,2] = 56\n",
            "Elemen ke-[1,3] = 28\n",
            "Elemen ke-[1,4] = 10\n",
            "Elemen ke-[2,0] = 30\n",
            "Elemen ke-[2,1] = 15\n",
            "Elemen ke-[2,2] = 54\n",
            "Elemen ke-[2,3] = 89\n",
            "Elemen ke-[2,4] = 11\n",
            "Elemen ke-[3,0] = 02\n",
            "Elemen ke-[3,1] = 06\n",
            "Elemen ke-[3,2] = 97\n",
            "Elemen ke-[3,3] = 94\n",
            "Elemen ke-[3,4] = 22\n",
            "Elemen ke-[4,0] = 20\n",
            "Elemen ke-[4,1] = 16\n",
            "Elemen ke-[4,2] = 79\n",
            "Elemen ke-[4,3] = 76\n",
            "Elemen ke-[4,4] = 18\n",
            "23 12 45 29 90 22 67 56 28 10 30 15 54 89 11 2 6 97 94 22 20 16 79 76 18 \n"
          ]
        }
      ]
    },
    {
      "cell_type": "code",
      "source": [],
      "metadata": {
        "id": "2rBQPV89dHKg"
      },
      "execution_count": null,
      "outputs": []
    }
  ]
}