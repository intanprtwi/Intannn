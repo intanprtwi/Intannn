{
  "nbformat": 4,
  "nbformat_minor": 0,
  "metadata": {
    "colab": {
      "provenance": [],
      "authorship_tag": "ABX9TyNh485UkWR9NtC85QbytvXT",
      "include_colab_link": true
    },
    "kernelspec": {
      "name": "python3",
      "display_name": "Python 3"
    },
    "language_info": {
      "name": "python"
    }
  },
  "cells": [
    {
      "cell_type": "markdown",
      "metadata": {
        "id": "view-in-github",
        "colab_type": "text"
      },
      "source": [
        "<a href=\"https://colab.research.google.com/github/intanprtwi/Intannn/blob/main/P3_IntanPratiwi_2C1240007.ipynb\" target=\"_parent\"><img src=\"https://colab.research.google.com/assets/colab-badge.svg\" alt=\"Open In Colab\"/></a>"
      ]
    },
    {
      "cell_type": "code",
      "execution_count": 7,
      "metadata": {
        "colab": {
          "base_uri": "https://localhost:8080/"
        },
        "id": "jQIpkErrviqa",
        "outputId": "7f4a09e1-381a-46cd-9b69-d5185fb22b53"
      },
      "outputs": [
        {
          "output_type": "stream",
          "name": "stdout",
          "text": [
            "6\n"
          ]
        }
      ],
      "source": [
        "NumbInt = [9,8,7,6,5,4,3,2,1,0]\n",
        "print (NumbInt[3])"
      ]
    },
    {
      "cell_type": "code",
      "source": [
        "X =[0 for i in range(10)]\n",
        "print(X)"
      ],
      "metadata": {
        "colab": {
          "base_uri": "https://localhost:8080/"
        },
        "id": "4Dr5uVZvwSUI",
        "outputId": "cd3f44c6-74e7-43ac-89f6-8b8a17dee058"
      },
      "execution_count": 15,
      "outputs": [
        {
          "output_type": "stream",
          "name": "stdout",
          "text": [
            "[0, 0, 0, 0, 0, 0, 0, 0, 0, 0]\n"
          ]
        }
      ]
    },
    {
      "cell_type": "code",
      "source": [
        "X = [\"*\" for i in range(10)]\n",
        "print(X)"
      ],
      "metadata": {
        "colab": {
          "base_uri": "https://localhost:8080/"
        },
        "id": "3F9OI_uyw7pP",
        "outputId": "656f2cd8-209a-4db2-ab20-1a89e0a07fc8"
      },
      "execution_count": 19,
      "outputs": [
        {
          "output_type": "stream",
          "name": "stdout",
          "text": [
            "['*', '*', '*', '*', '*', '*', '*', '*', '*', '*']\n"
          ]
        }
      ]
    },
    {
      "cell_type": "code",
      "source": [
        "TabInt = [1, 2, 4, -1, 100, 2, 0, -1, 3, 9]\n",
        "print(TabInt[5])\n",
        "x = TabInt[1] + TabInt[6]\n",
        "print(x)\n",
        "TabInt[9] = 9\n",
        "print(TabInt[9])\n",
        "\n"
      ],
      "metadata": {
        "colab": {
          "base_uri": "https://localhost:8080/"
        },
        "id": "x61QI-CixabP",
        "outputId": "efe243c0-19b6-4df7-82b8-176a7dbf3ad6"
      },
      "execution_count": 32,
      "outputs": [
        {
          "output_type": "stream",
          "name": "stdout",
          "text": [
            "2\n",
            "2\n",
            "9\n"
          ]
        }
      ]
    },
    {
      "cell_type": "code",
      "source": [
        "6# KAMUS\n",
        "# TabInt : array [0..9] of int\n",
        "# i: int\n",
        "# ALGORITMA\n",
        "# Deklarasi array NumbInt dan mengisinya dengan nilai default 0\n",
        "NumbInt = [0 for i in range(10)]\n",
        "# Mengisi array dari pembacaan nilai dari keyboard\n",
        "for i in range(0,10): NumbInt[i] = int(input())"
      ],
      "metadata": {
        "colab": {
          "base_uri": "https://localhost:8080/"
        },
        "id": "rtqruqU-0U0n",
        "outputId": "dae686c2-9ab9-44d3-b413-7e0a12787238"
      },
      "execution_count": 35,
      "outputs": [
        {
          "name": "stdout",
          "output_type": "stream",
          "text": [
            "1\n",
            "2\n",
            "3\n",
            "4\n",
            "5\n",
            "6\n",
            "7\n",
            "8\n",
            "9\n",
            "0\n"
          ]
        }
      ]
    },
    {
      "cell_type": "code",
      "source": [
        "NumbInt = [0 for i in range(10)]\n",
        "\n",
        "for i in range(10):\n",
        "  NumbInt[i]=int(input(f\"masukan elemen ke-{i}: \"))\n",
        "\n",
        "for i in range(10):\n",
        "  print(NumbInt[i])"
      ],
      "metadata": {
        "colab": {
          "base_uri": "https://localhost:8080/"
        },
        "id": "D7mCtC0F1K6v",
        "outputId": "063921e7-a84b-4ff0-eb75-20afaffd02f8"
      },
      "execution_count": 44,
      "outputs": [
        {
          "output_type": "stream",
          "name": "stdout",
          "text": [
            "masukan elemen ke-0: 1\n",
            "masukan elemen ke-1: 2\n",
            "masukan elemen ke-2: 3\n",
            "masukan elemen ke-3: 4\n",
            "masukan elemen ke-4: 5\n",
            "masukan elemen ke-5: 6\n",
            "masukan elemen ke-6: 7\n",
            "masukan elemen ke-7: 8\n",
            "masukan elemen ke-8: 9\n",
            "masukan elemen ke-9: 0\n",
            "1\n",
            "2\n",
            "3\n",
            "4\n",
            "5\n",
            "6\n",
            "7\n",
            "8\n",
            "9\n",
            "0\n"
          ]
        }
      ]
    },
    {
      "cell_type": "code",
      "source": [
        "NumbInt = [0 for i in range(10)]\n",
        "\n",
        "for i in range(0,10):\n",
        "    NumbInt[i] = int(input())\n",
        "\n",
        "sum = 0\n",
        "for i in range(0,10):\n",
        "    sum = sum + NumbInt[i]\n",
        "\n",
        "rata = sum/10\n",
        "print (\"Nilai rata-rata = \" + str(rata))"
      ],
      "metadata": {
        "colab": {
          "base_uri": "https://localhost:8080/"
        },
        "id": "u5cy6wG_49Mn",
        "outputId": "11b190d2-b99c-4172-bff2-f4223ea6d839"
      },
      "execution_count": 46,
      "outputs": [
        {
          "output_type": "stream",
          "name": "stdout",
          "text": [
            "12\n",
            "56\n",
            "13\n",
            "45\n",
            "17\n",
            "28\n",
            "20\n",
            "5\n",
            "6\n",
            "2\n",
            "Nilai rata-rata = 20.4\n"
          ]
        }
      ]
    },
    {
      "cell_type": "code",
      "source": [
        "S = [4, 1, -1, 10, 0, 12]\n",
        "\n",
        "D = int(input(\"Masukkan nilai D (pengali): \"))\n",
        "\n",
        "S = [elemen * D for elemen in S]\n",
        "\n",
        "print(\"Array S setelah dikalikan dengan D:\")\n",
        "print(S)\n",
        "\n",
        "maks = max(S)\n",
        "minim = min(S)\n",
        "\n",
        "print(\"Nilai terbesar dalam array:\", maks)\n",
        "print(\"Nilai terkecil dalam array:\", minim)"
      ],
      "metadata": {
        "colab": {
          "base_uri": "https://localhost:8080/"
        },
        "id": "zV_PKnrf52OY",
        "outputId": "0c19d1e1-b39c-47e2-897a-3779f9fa8853"
      },
      "execution_count": 49,
      "outputs": [
        {
          "output_type": "stream",
          "name": "stdout",
          "text": [
            "Masukkan nilai D (pengali): 6\n",
            "Array S setelah dikalikan dengan D:\n",
            "[24, 6, -6, 60, 0, 72]\n",
            "Nilai terbesar dalam array: 72\n",
            "Nilai terkecil dalam array: -6\n"
          ]
        }
      ]
    },
    {
      "cell_type": "code",
      "source": [
        "for j in range(5):\n",
        "  for i in range(5):\n",
        "      print(MatM[j][i], end= \"\")\n",
        "  print()\n",
        "matm= [[9,8,7,6,5],\n",
        "        [1,2,3,4,6],\n",
        "        [10,11,12,13,14],\n",
        "        [28,27,26,25,24],\n",
        "        [31,30,29,44,16]]\n",
        "print(MatM[3][1])"
      ],
      "metadata": {
        "colab": {
          "base_uri": "https://localhost:8080/",
          "height": 211
        },
        "id": "WsFazyrd52qO",
        "outputId": "a4c9c089-e6c2-4efb-fa12-faf95816038e"
      },
      "execution_count": 57,
      "outputs": [
        {
          "output_type": "error",
          "ename": "NameError",
          "evalue": "name 'MatM' is not defined",
          "traceback": [
            "\u001b[0;31m---------------------------------------------------------------------------\u001b[0m",
            "\u001b[0;31mNameError\u001b[0m                                 Traceback (most recent call last)",
            "\u001b[0;32m<ipython-input-57-e91473e491f6>\u001b[0m in \u001b[0;36m<cell line: 0>\u001b[0;34m()\u001b[0m\n\u001b[1;32m      1\u001b[0m \u001b[0;32mfor\u001b[0m \u001b[0mj\u001b[0m \u001b[0;32min\u001b[0m \u001b[0mrange\u001b[0m\u001b[0;34m(\u001b[0m\u001b[0;36m5\u001b[0m\u001b[0;34m)\u001b[0m\u001b[0;34m:\u001b[0m\u001b[0;34m\u001b[0m\u001b[0;34m\u001b[0m\u001b[0m\n\u001b[1;32m      2\u001b[0m   \u001b[0;32mfor\u001b[0m \u001b[0mi\u001b[0m \u001b[0;32min\u001b[0m \u001b[0mrange\u001b[0m\u001b[0;34m(\u001b[0m\u001b[0;36m5\u001b[0m\u001b[0;34m)\u001b[0m\u001b[0;34m:\u001b[0m\u001b[0;34m\u001b[0m\u001b[0;34m\u001b[0m\u001b[0m\n\u001b[0;32m----> 3\u001b[0;31m       \u001b[0mprint\u001b[0m\u001b[0;34m(\u001b[0m\u001b[0mMatM\u001b[0m\u001b[0;34m[\u001b[0m\u001b[0mj\u001b[0m\u001b[0;34m]\u001b[0m\u001b[0;34m[\u001b[0m\u001b[0mi\u001b[0m\u001b[0;34m]\u001b[0m\u001b[0;34m,\u001b[0m \u001b[0mend\u001b[0m\u001b[0;34m=\u001b[0m \u001b[0;34m\"\"\u001b[0m\u001b[0;34m)\u001b[0m\u001b[0;34m\u001b[0m\u001b[0;34m\u001b[0m\u001b[0m\n\u001b[0m\u001b[1;32m      4\u001b[0m   \u001b[0mprint\u001b[0m\u001b[0;34m(\u001b[0m\u001b[0;34m)\u001b[0m\u001b[0;34m\u001b[0m\u001b[0;34m\u001b[0m\u001b[0m\n\u001b[1;32m      5\u001b[0m MatM = [[9,8,7,6,5],\n",
            "\u001b[0;31mNameError\u001b[0m: name 'MatM' is not defined"
          ]
        }
      ]
    },
    {
      "cell_type": "code",
      "source": [
        " NBrs = 5; NKol = 5;\n",
        "M = [[0 for j in range(NKol)] for i in range(NBrs)]\n",
        "\n",
        "for i in range (NBrs):\n",
        "  for j in range (NKol):\n",
        "    M[i][j] = i * j\n",
        "\n",
        "for i in range (NBrs):\n",
        "   for j in range (NKol):\n",
        "      print(str(M[i][j])+\" \", end='')\n",
        "print()"
      ],
      "metadata": {
        "colab": {
          "base_uri": "https://localhost:8080/"
        },
        "id": "-lCM93Dj-Nbe",
        "outputId": "8aad8352-7083-4277-9712-d1ce77d625ff"
      },
      "execution_count": 64,
      "outputs": [
        {
          "output_type": "stream",
          "name": "stdout",
          "text": [
            "0 0 0 0 0 0 1 2 3 4 0 2 4 6 8 0 3 6 9 12 0 4 8 12 16 \n"
          ]
        }
      ]
    }
  ]
}